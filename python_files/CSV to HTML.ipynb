{
 "cells": [
  {
   "cell_type": "code",
   "execution_count": 1,
   "metadata": {},
   "outputs": [],
   "source": [
    "import pandas as pd\n",
    "\n",
    "# Remove dataFrame display size restrictions\n",
    "#pd.set_option(\"display.max_rows\", None, \"display.max_columns\", None)\n",
    "\n",
    "walk_score = pd.read_csv(\"output/walkscore_data_clean.csv\")\n",
    "trees = pd.read_csv(\"output/tree_data_clean.csv\")\n",
    "stations = pd.read_csv(\"output/stations_data_clean.csv\")\n",
    "brownfields = pd.read_csv(\"output/brownfields_data_clean.csv\")\n",
    "crime = pd.read_csv(\"output/crime_data_clean.csv\")\n",
    "housing = pd.read_csv(\"output/re_data_clean.csv\")\n",
    "restaurants = pd.read_csv(\"output/restaurants.csv\")\n",
    "elem = pd.read_csv(\"output/clean_elementary_schools.csv\")\n",
    "middle = pd.read_csv(\"output/clean_middle_schools.csv\")\n",
    "high = pd.read_csv(\"output/clean_high_schools.csv\")\n",
    "\n"
   ]
  },
  {
   "cell_type": "markdown",
   "metadata": {},
   "source": [
    "#### Walk Scores"
   ]
  },
  {
   "cell_type": "code",
   "execution_count": 2,
   "metadata": {},
   "outputs": [],
   "source": [
    "walk_score = walk_score.sample(n=1000)"
   ]
  },
  {
   "cell_type": "code",
   "execution_count": 3,
   "metadata": {},
   "outputs": [],
   "source": [
    "walk_score = walk_score[['uniqueid','address', 'borough', 'zipcode', 'lat', 'long', 'under_1_mile', 'walkable_false', 'walkable_true']]\n",
    "walk_score.rename(columns={'uniqueid': 'Unique ID', 'address': 'Address', 'borough': 'Bourough', 'lat': 'Latitude', 'long': 'Longitude', 'zipcode': 'Zipcode', \"under_1_mile\": 'Subway < 1 Mile', 'walkable_false': 'Walkable - False', 'walkable_true': 'Walkable - True' }, inplace=True)\n",
    "walk_score.to_html(\"html_tables/walk_table.html\", max_cols=100, index=False)\n",
    "\n",
    "\n",
    "\n"
   ]
  },
  {
   "cell_type": "markdown",
   "metadata": {},
   "source": [
    "#### Trees"
   ]
  },
  {
   "cell_type": "code",
   "execution_count": 4,
   "metadata": {},
   "outputs": [],
   "source": [
    "trees = trees.sample(n=1000)"
   ]
  },
  {
   "cell_type": "code",
   "execution_count": 5,
   "metadata": {},
   "outputs": [],
   "source": [
    "trees = trees[['borough', 'neighborhood', 'zipcode', 'latitude', 'longitude', 'health', 'health_level_dead', 'health_level_poor', 'health_level_fair', 'health_level_good']]\n",
    "trees.rename(columns={'borough': 'Borough', 'latitude': 'Latitude', 'longitude': 'Longitude', 'health': 'Health', 'neighborhood': 'Neighborhood', \n",
    "                      'zipcode': 'Zipcode', 'health_level_dead': 'Health - Dead', 'health_level_poor': 'Health - Poor',\n",
    "                      'health_level_fair': 'Health - Fair', 'health_level_good': 'Health - Good'}, inplace=True) \n",
    "                      \n",
    "trees                     \n",
    "trees.to_html(\"html_tables/trees_table.html\", max_cols=100, index=True)                 \n",
    "                      \n",
    "                      \n",
    "                      \n",
    "               \n",
    "               "
   ]
  },
  {
   "cell_type": "markdown",
   "metadata": {},
   "source": [
    "#### Stations"
   ]
  },
  {
   "cell_type": "code",
   "execution_count": 7,
   "metadata": {},
   "outputs": [
    {
     "name": "stderr",
     "output_type": "stream",
     "text": [
      "/Users/alisonsadel/opt/anaconda3/lib/python3.8/site-packages/pandas/core/frame.py:4296: SettingWithCopyWarning: \n",
      "A value is trying to be set on a copy of a slice from a DataFrame\n",
      "\n",
      "See the caveats in the documentation: https://pandas.pydata.org/pandas-docs/stable/user_guide/indexing.html#returning-a-view-versus-a-copy\n",
      "  return super().rename(\n"
     ]
    }
   ],
   "source": [
    "stations = stations[['index', 'borough', 'line', 'station_name', 'zipcode', 'lat_field', 'lon_field', 'ada_access_no', \n",
    "                     'ada_access_yes', 'ada_access_partial']]\n",
    "\n",
    "stations.rename(columns={'index': 'Unique ID', 'borough': 'Borough', 'line': 'Line', 'station_name': 'Station Name', \n",
    "                         'zipcode': 'Zipcode', 'lat_field': 'Latitude', 'lon_field': 'Longitude', 'ada_access_no':'Accessible - No', 'ada_access_yes': 'Accessible - Yes',\n",
    "                         'ada_access_no': 'Accessible - Partial'}, inplace=True)\n",
    "\n",
    "stations.to_html(\"html_tables/stations_table.html\", index=False)"
   ]
  },
  {
   "cell_type": "markdown",
   "metadata": {},
   "source": [
    "#### Brownfields"
   ]
  },
  {
   "cell_type": "code",
   "execution_count": 8,
   "metadata": {},
   "outputs": [],
   "source": [
    "brownfields = brownfields.sample(n=1000)"
   ]
  },
  {
   "cell_type": "code",
   "execution_count": 9,
   "metadata": {},
   "outputs": [],
   "source": [
    "brownfields = brownfields[['index', 'borough', 'site_name', 'zipcode',\n",
    "                          'type_is_active_cleanup_mild_threat', 'type_is_active_significant_threat', 'type_is_completed_clean', 'type_is_maintain_continued_threat', 'type_is_potential_threat']]\n",
    "\n",
    "\n",
    "brownfields.rename(columns={'index': 'Unique ID', 'borough': 'Borough', 'site_name': 'Site Name', 'zipcode': 'Zipcode',\n",
    "                            'type_is_active_cleanup_mild_threat': 'Active Clean Up - Mild Threat',\n",
    "                            'type_is_active_significant_threat': 'Active Clean Up - High Threat',\n",
    "                            'type_is_completed_clean': 'Completed - Clean',\n",
    "                            'type_is_maintain_continued_threat': 'Completed - Ongoing Maintenance', \n",
    "                            'type_is_potential_threat': 'Review Pending - Potential Threat'}, inplace=True) \n",
    "\n",
    "brownfields.to_html(\"html_tables/brownfields_table.html\", max_cols=100, index=False)"
   ]
  },
  {
   "cell_type": "markdown",
   "metadata": {},
   "source": [
    "#### Crime"
   ]
  },
  {
   "cell_type": "code",
   "execution_count": 10,
   "metadata": {},
   "outputs": [],
   "source": [
    "crime = crime.sample(n=1000)"
   ]
  },
  {
   "cell_type": "code",
   "execution_count": 11,
   "metadata": {},
   "outputs": [],
   "source": [
    "crime = crime[['complaint_id', 'borough', 'category', 'lat2', 'long2', 'complaint_date', 'zipcode',\n",
    "              'type_is_felony', 'type_is_violation', 'type_is_misdemeanor', 'danger_level', 'danger_level_is_high', 'danger_level_is_low']]\n",
    "\n",
    "crime.rename(columns={'complaint_id':'Complaint ID', 'borough': 'Borough', 'category': 'Category',\n",
    "                     'lat2': 'Latitude', 'long2': 'Longitude', 'complaint_date': 'Complaint Date',\n",
    "                     'zipcode': 'Zipcode','type_is_felony': 'Crime - Felony',\n",
    "                     'type_is_violation': 'Crime - Violation', 'type_is_misdemeanor': 'Crime - Misdemeanor', \n",
    "                     'danger_level': 'Danger Level', 'danger_level_is_high': 'Danger - High',\n",
    "                     'danger_level_is_low': 'Danger - Low'}, inplace=True) \n",
    "\n",
    "crime.to_html(\"html_tables/crime_table.html\", max_cols=100, index=False)\n"
   ]
  },
  {
   "cell_type": "markdown",
   "metadata": {},
   "source": [
    "#### Restaurants"
   ]
  },
  {
   "cell_type": "code",
   "execution_count": 12,
   "metadata": {},
   "outputs": [],
   "source": [
    "restaurants = restaurants.sample(n=1000)"
   ]
  },
  {
   "cell_type": "code",
   "execution_count": 13,
   "metadata": {},
   "outputs": [],
   "source": [
    "restaurants = restaurants[['index', 'Name', 'boro', 'street', 'zipcode']]\n",
    "restaurants.rename(columns={'index': 'Restaurant ID', 'Name': 'Restaurant Name', 'boro': 'Borough', \n",
    "                           'street': 'Street', 'zipcode': 'Zipcode'}, inplace=True)\n",
    "\n",
    "restaurants['Restaurant Name'].str.lower()\n",
    "restaurants['Borough'].str.lower()\n",
    "restaurants['Street'].str.lower()\n",
    "\n",
    "restaurants.to_html(\"html_tables/restaurants_table.html\", max_cols=100, index=False)"
   ]
  },
  {
   "cell_type": "code",
   "execution_count": 14,
   "metadata": {},
   "outputs": [
    {
     "name": "stdout",
     "output_type": "stream",
     "text": [
      "Pretty printing has been turned OFF\n"
     ]
    }
   ],
   "source": [
    "%pprint"
   ]
  },
  {
   "cell_type": "markdown",
   "metadata": {},
   "source": [
    "#### Schools"
   ]
  },
  {
   "cell_type": "code",
   "execution_count": 16,
   "metadata": {},
   "outputs": [],
   "source": [
    "elem = elem.sample(n=1000)\n",
    "middle = middle.sample(n=1000)\n",
    "high = high.sample(n=1000)"
   ]
  },
  {
   "cell_type": "code",
   "execution_count": 17,
   "metadata": {},
   "outputs": [],
   "source": [
    "elem = elem[['ranking', 'school_name', 'school_type', 'address', 'city', 'zipcode', 'county', 'district', 'is_charter', 'is_magnet', 'is_title_i', 'total_students','total_expenditure_per_pupil', 'free_lunch_recipient', 'white', 'black', 'hispanic', 'asian']]\n",
    "\n",
    "elem.rename(columns={'ranking': 'School Ranking', 'school_name': 'School Name',\n",
    "                    'school_type': 'School Type', 'address': 'Address', 'city': 'City', 'zipcode': 'Zipcode', \n",
    "                    'county': 'County', 'district': 'District', 'is_charter': 'Charter', 'is_magnet': 'Magnet', \n",
    "                     'is_title_i': 'Title I','total students': 'Total Students', 'free_lunch_recipient': 'Free Lunch Eligible',\n",
    "                     'total_expenditure_per_pupil': 'Expenditure Per Pupil', 'white': 'White', 'black': 'Black', 'hispanic': 'Hispanic',\n",
    "                     'asian': 'Asian'}, inplace=True)\n",
    "\n",
    "elem.to_html(\"html_tables/elem_table.html\", max_cols=100, index=False)"
   ]
  },
  {
   "cell_type": "code",
   "execution_count": 18,
   "metadata": {},
   "outputs": [],
   "source": [
    "middle = middle[['ranking', 'school_name', 'school_type', 'address', 'city', 'zipcode', 'county', 'district', 'is_charter', 'is_magnet', 'is_title_i', 'total_students','total_expenditure_per_pupil', 'free_lunch_recipient', 'white', 'black', 'hispanic', 'asian']]\n",
    "\n",
    "middle.rename(columns={'ranking': 'School Ranking', 'school_name': 'School Name',\n",
    "                    'school_type': 'School Type', 'address': 'Address', 'city': 'City', 'zipcode': 'Zipcode', \n",
    "                    'county': 'County', 'district': 'District', 'is_charter': 'Charter', 'is_magnet': 'Magnet', \n",
    "                     'is_title_i': 'Title I','total students': 'Total Students', 'free_lunch_recipient': 'Free Lunch Eligible',\n",
    "                     'total_expenditure_per_pupil': 'Expenditure Per Pupil', 'white': 'White', 'black': 'Black', 'hispanic': 'Hispanic',\n",
    "                     'asian': 'Asian'}, inplace=True)\n",
    "\n",
    "middle.to_html(\"html_tables/middle_table.html\", max_cols=100, index=False)"
   ]
  },
  {
   "cell_type": "code",
   "execution_count": 19,
   "metadata": {},
   "outputs": [],
   "source": [
    "high = high[['ranking', 'school_name', 'school_type', 'address', 'city', 'zipcode', 'county', 'district', 'is_charter', 'is_magnet', 'is_title_i', 'total_students','total_expenditure_per_pupil', 'free_lunch_recipient', 'white', 'black', 'hispanic', 'asian']]\n",
    "\n",
    "high.rename(columns={'ranking': 'School Ranking', 'school_name': 'School Name',\n",
    "                    'school_type': 'School Type', 'address': 'Address', 'city': 'City', 'zipcode': 'Zipcode', \n",
    "                    'county': 'County', 'district': 'District', 'is_charter': 'Charter', 'is_magnet': 'Magnet', \n",
    "                     'is_title_i': 'Title I','total students': 'Total Students', 'free_lunch_recipient': 'Free Lunch Eligible',\n",
    "                     'total_expenditure_per_pupil': 'Expenditure Per Pupil', 'white': 'White', 'black': 'Black', 'hispanic': 'Hispanic',\n",
    "                     'asian': 'Asian'}, inplace=True)\n",
    "\n",
    "high.to_html(\"html_tables/high_table.html\", max_cols=100, index=False)"
   ]
  },
  {
   "cell_type": "code",
   "execution_count": null,
   "metadata": {},
   "outputs": [],
   "source": []
  },
  {
   "cell_type": "code",
   "execution_count": null,
   "metadata": {},
   "outputs": [],
   "source": []
  }
 ],
 "metadata": {
  "kernelspec": {
   "display_name": "Python 3",
   "language": "python",
   "name": "python3"
  },
  "language_info": {
   "codemirror_mode": {
    "name": "ipython",
    "version": 3
   },
   "file_extension": ".py",
   "mimetype": "text/x-python",
   "name": "python",
   "nbconvert_exporter": "python",
   "pygments_lexer": "ipython3",
   "version": "3.8.5"
  }
 },
 "nbformat": 4,
 "nbformat_minor": 4
}
