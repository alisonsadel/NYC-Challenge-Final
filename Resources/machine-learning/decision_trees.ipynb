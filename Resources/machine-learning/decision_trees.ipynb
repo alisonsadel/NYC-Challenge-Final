{
 "cells": [
  {
   "cell_type": "markdown",
   "metadata": {},
   "source": [
    "# Import Libraries & Dependencies"
   ]
  },
  {
   "cell_type": "code",
   "execution_count": 9,
   "metadata": {},
   "outputs": [],
   "source": [
    "#import libraries and dependencies\n",
    "from sklearn import tree\n",
    "from sklearn.model_selection import train_test_split\n",
    "from sklearn.model_selection import train_test_split\n",
    "import pandas as pd\n",
    "import os"
   ]
  },
  {
   "cell_type": "code",
   "execution_count": 10,
   "metadata": {},
   "outputs": [],
   "source": [
    "# read in dataframe(s)\n",
    "# UPDATE PATH(S)\n",
    "crime_df = pd.read_csv(\"../python_files/output/crime_data_clean.csv\")\n",
    "trees_df = pd.read_csv(\"../python_files/output/tree_data_clean.csv\")\n",
    "brown_df = pd.read_csv(\"../python_files/output/brownfields_data_clean.csv\")\n",
    "elemSchoos_df = pd.read_csv(\"../python_files/output/elementary_school_data.csv\")\n",
    "walk_df = pd.read_csv(\"../python_files/output/walkscore_data_clean.csv\")\n",
    "restaurant_df = pd.read_csv(\"../python_files/output/restaurants.csv\")"
   ]
  },
  {
   "cell_type": "code",
   "execution_count": 23,
   "metadata": {},
   "outputs": [
    {
     "data": {
      "text/html": [
       "<div>\n",
       "<style scoped>\n",
       "    .dataframe tbody tr th:only-of-type {\n",
       "        vertical-align: middle;\n",
       "    }\n",
       "\n",
       "    .dataframe tbody tr th {\n",
       "        vertical-align: top;\n",
       "    }\n",
       "\n",
       "    .dataframe thead th {\n",
       "        text-align: right;\n",
       "    }\n",
       "</style>\n",
       "<table border=\"1\" class=\"dataframe\">\n",
       "  <thead>\n",
       "    <tr style=\"text-align: right;\">\n",
       "      <th></th>\n",
       "      <th>category_tier</th>\n",
       "      <th>type_is_felony</th>\n",
       "      <th>type_is_misdemeanor</th>\n",
       "      <th>type_is_violation</th>\n",
       "      <th>danger_level_is_high</th>\n",
       "      <th>danger_level_is_low</th>\n",
       "    </tr>\n",
       "  </thead>\n",
       "  <tbody>\n",
       "    <tr>\n",
       "      <th>65468</th>\n",
       "      <td>0</td>\n",
       "      <td>1</td>\n",
       "      <td>0</td>\n",
       "      <td>0</td>\n",
       "      <td>1</td>\n",
       "      <td>0</td>\n",
       "    </tr>\n",
       "  </tbody>\n",
       "</table>\n",
       "</div>"
      ],
      "text/plain": [
       "       category_tier  type_is_felony  type_is_misdemeanor  type_is_violation  \\\n",
       "65468              0               1                    0                  0   \n",
       "\n",
       "       danger_level_is_high  danger_level_is_low  \n",
       "65468                     1                    0  "
      ]
     },
     "execution_count": 23,
     "metadata": {},
     "output_type": "execute_result"
    }
   ],
   "source": [
    "crime_df.sample(5)\n",
    "\n",
    "crime_newdf = crime_df[[\"category_tier\", \"type_is_felony\", \n",
    "                       \"type_is_misdemeanor\", \"type_is_violation\", \"danger_level_is_high\", \"danger_level_is_low\"]]\n",
    "\n",
    "crime_newdf.sample()"
   ]
  },
  {
   "cell_type": "code",
   "execution_count": 22,
   "metadata": {},
   "outputs": [
    {
     "data": {
      "text/html": [
       "<div>\n",
       "<style scoped>\n",
       "    .dataframe tbody tr th:only-of-type {\n",
       "        vertical-align: middle;\n",
       "    }\n",
       "\n",
       "    .dataframe tbody tr th {\n",
       "        vertical-align: top;\n",
       "    }\n",
       "\n",
       "    .dataframe thead th {\n",
       "        text-align: right;\n",
       "    }\n",
       "</style>\n",
       "<table border=\"1\" class=\"dataframe\">\n",
       "  <thead>\n",
       "    <tr style=\"text-align: right;\">\n",
       "      <th></th>\n",
       "      <th>status_tier</th>\n",
       "      <th>type_is_active_cleanup_mild_threat</th>\n",
       "      <th>type_is_active_significant_threat</th>\n",
       "      <th>type_is_completed_clean</th>\n",
       "      <th>type_is_maintain_continued_threat</th>\n",
       "      <th>type_is_potential_threat</th>\n",
       "    </tr>\n",
       "  </thead>\n",
       "  <tbody>\n",
       "    <tr>\n",
       "      <th>358</th>\n",
       "      <td>2</td>\n",
       "      <td>0</td>\n",
       "      <td>0</td>\n",
       "      <td>1</td>\n",
       "      <td>0</td>\n",
       "      <td>0</td>\n",
       "    </tr>\n",
       "  </tbody>\n",
       "</table>\n",
       "</div>"
      ],
      "text/plain": [
       "     status_tier  type_is_active_cleanup_mild_threat  \\\n",
       "358            2                                   0   \n",
       "\n",
       "     type_is_active_significant_threat  type_is_completed_clean  \\\n",
       "358                                  0                        1   \n",
       "\n",
       "     type_is_maintain_continued_threat  type_is_potential_threat  \n",
       "358                                  0                         0  "
      ]
     },
     "execution_count": 22,
     "metadata": {},
     "output_type": "execute_result"
    }
   ],
   "source": [
    "brown_df.sample(5)\n",
    "\n",
    "brown_newdf = brown_df[[\"status_tier\",\n",
    "                        \"type_is_active_cleanup_mild_threat\", \"type_is_active_significant_threat\", \n",
    "                        \"type_is_completed_clean\", \n",
    "                        \"type_is_maintain_continued_threat\",\n",
    "                        \"type_is_potential_threat\"]]\n",
    "\n",
    "brown_newdf.sample()"
   ]
  },
  {
   "cell_type": "code",
   "execution_count": 26,
   "metadata": {},
   "outputs": [
    {
     "data": {
      "text/html": [
       "<div>\n",
       "<style scoped>\n",
       "    .dataframe tbody tr th:only-of-type {\n",
       "        vertical-align: middle;\n",
       "    }\n",
       "\n",
       "    .dataframe tbody tr th {\n",
       "        vertical-align: top;\n",
       "    }\n",
       "\n",
       "    .dataframe thead th {\n",
       "        text-align: right;\n",
       "    }\n",
       "</style>\n",
       "<table border=\"1\" class=\"dataframe\">\n",
       "  <thead>\n",
       "    <tr style=\"text-align: right;\">\n",
       "      <th></th>\n",
       "      <th>status_tier</th>\n",
       "      <th>status_alive</th>\n",
       "      <th>status_dead</th>\n",
       "      <th>status_stump</th>\n",
       "      <th>health_level</th>\n",
       "      <th>health_level_dead</th>\n",
       "      <th>health_level_fair</th>\n",
       "      <th>health_level_good</th>\n",
       "      <th>health_level_poor</th>\n",
       "    </tr>\n",
       "  </thead>\n",
       "  <tbody>\n",
       "    <tr>\n",
       "      <th>294908</th>\n",
       "      <td>0</td>\n",
       "      <td>1.0</td>\n",
       "      <td>0.0</td>\n",
       "      <td>0.0</td>\n",
       "      <td>2</td>\n",
       "      <td>0.0</td>\n",
       "      <td>0.0</td>\n",
       "      <td>1.0</td>\n",
       "      <td>0.0</td>\n",
       "    </tr>\n",
       "  </tbody>\n",
       "</table>\n",
       "</div>"
      ],
      "text/plain": [
       "        status_tier  status_alive  status_dead  status_stump  health_level  \\\n",
       "294908            0           1.0          0.0           0.0             2   \n",
       "\n",
       "        health_level_dead  health_level_fair  health_level_good  \\\n",
       "294908                0.0                0.0                1.0   \n",
       "\n",
       "        health_level_poor  \n",
       "294908                0.0  "
      ]
     },
     "execution_count": 26,
     "metadata": {},
     "output_type": "execute_result"
    }
   ],
   "source": [
    "trees_df.sample(5)\n",
    "\n",
    "trees_newdf = trees_df[[\"status_tier\",\n",
    "                        \"status_alive\", \"status_dead\", \"status_stump\", \n",
    "                        \"health_level\", \"health_level_dead\", \"health_level_fair\", \"health_level_good\",\n",
    "                        \"health_level_poor\"]]\n",
    "\n",
    "trees_newdf.sample()"
   ]
  },
  {
   "cell_type": "code",
   "execution_count": null,
   "metadata": {},
   "outputs": [],
   "source": []
  },
  {
   "cell_type": "code",
   "execution_count": null,
   "metadata": {},
   "outputs": [],
   "source": []
  }
 ],
 "metadata": {
  "kernelspec": {
   "display_name": "Python 3",
   "language": "python",
   "name": "python3"
  },
  "language_info": {
   "codemirror_mode": {
    "name": "ipython",
    "version": 3
   },
   "file_extension": ".py",
   "mimetype": "text/x-python",
   "name": "python",
   "nbconvert_exporter": "python",
   "pygments_lexer": "ipython3",
   "version": "3.8.5"
  }
 },
 "nbformat": 4,
 "nbformat_minor": 4
}
